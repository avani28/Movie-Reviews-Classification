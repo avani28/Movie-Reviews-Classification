{
  "nbformat": 4,
  "nbformat_minor": 0,
  "metadata": {
    "colab": {
      "name": "Movie Reviews Classification.ipynb",
      "provenance": [],
      "collapsed_sections": []
    },
    "kernelspec": {
      "name": "python3",
      "display_name": "Python 3"
    }
  },
  "cells": [
    {
      "cell_type": "markdown",
      "metadata": {
        "id": "yHu2EFJYAhc2"
      },
      "source": [
        "**Classifying Movie Reviews as Positive or Negative using the IMDB Dataset**"
      ]
    },
    {
      "cell_type": "code",
      "metadata": {
        "id": "HHn_ApBZ9Tvk"
      },
      "source": [
        "#importing the required libraries\n",
        "import tensorflow as tf\n",
        "from tensorflow import keras\n",
        "from tensorflow.keras import layers\n",
        "from tensorflow.keras import models\n",
        "import numpy as np\n",
        "import matplotlib.pyplot as plt"
      ],
      "execution_count": null,
      "outputs": []
    },
    {
      "cell_type": "code",
      "metadata": {
        "id": "t3IK7Fy09a8n",
        "colab": {
          "base_uri": "https://localhost:8080/",
          "height": 50
        },
        "outputId": "57b0eaab-9152-48b2-b9bc-8cb6993c2357"
      },
      "source": [
        "#loading the dataset\n",
        "imdb = keras.datasets.imdb\n",
        "\n",
        "(train_data, train_labels), (test_data, test_labels) = imdb.load_data(num_words=10000) #keeping the top 10,000 most frequently occuring words in the training data"
      ],
      "execution_count": null,
      "outputs": [
        {
          "output_type": "stream",
          "text": [
            "Downloading data from https://storage.googleapis.com/tensorflow/tf-keras-datasets/imdb.npz\n",
            "17465344/17464789 [==============================] - 0s 0us/step\n"
          ],
          "name": "stdout"
        }
      ]
    },
    {
      "cell_type": "markdown",
      "metadata": {
        "id": "MU0ZRNgnbZss"
      },
      "source": [
        "***Exploratory Data Analysis*** :"
      ]
    },
    {
      "cell_type": "code",
      "metadata": {
        "id": "m6ZKFyxF9qlR",
        "colab": {
          "base_uri": "https://localhost:8080/",
          "height": 84
        },
        "outputId": "2c0dfce3-e77a-4809-d3e3-e9a2777cd580"
      },
      "source": [
        "m_train = train_data.shape[0]\n",
        "m_test = test_data.shape[0]\n",
        "\n",
        "print (\"Number of training examples: \" + str(m_train))\n",
        "print (\"Number of testing examples: \" + str(m_test))\n",
        "print(\"train_data shape: \"+ str(train_data.shape))\n",
        "print(\"test_data shape: \"+ str(test_data.shape))"
      ],
      "execution_count": null,
      "outputs": [
        {
          "output_type": "stream",
          "text": [
            "Number of training examples: 25000\n",
            "Number of testing examples: 25000\n",
            "train_data shape: (25000,)\n",
            "test_data shape: (25000,)\n"
          ],
          "name": "stdout"
        }
      ]
    },
    {
      "cell_type": "code",
      "metadata": {
        "id": "MCDiOM6k9wW1",
        "colab": {
          "base_uri": "https://localhost:8080/",
          "height": 54
        },
        "outputId": "7d9a3e03-bcde-499b-9ee1-502546073e97"
      },
      "source": [
        "#example\n",
        "print(train_data[0])"
      ],
      "execution_count": null,
      "outputs": [
        {
          "output_type": "stream",
          "text": [
            "[1, 14, 22, 16, 43, 530, 973, 1622, 1385, 65, 458, 4468, 66, 3941, 4, 173, 36, 256, 5, 25, 100, 43, 838, 112, 50, 670, 2, 9, 35, 480, 284, 5, 150, 4, 172, 112, 167, 2, 336, 385, 39, 4, 172, 4536, 1111, 17, 546, 38, 13, 447, 4, 192, 50, 16, 6, 147, 2025, 19, 14, 22, 4, 1920, 4613, 469, 4, 22, 71, 87, 12, 16, 43, 530, 38, 76, 15, 13, 1247, 4, 22, 17, 515, 17, 12, 16, 626, 18, 2, 5, 62, 386, 12, 8, 316, 8, 106, 5, 4, 2223, 5244, 16, 480, 66, 3785, 33, 4, 130, 12, 16, 38, 619, 5, 25, 124, 51, 36, 135, 48, 25, 1415, 33, 6, 22, 12, 215, 28, 77, 52, 5, 14, 407, 16, 82, 2, 8, 4, 107, 117, 5952, 15, 256, 4, 2, 7, 3766, 5, 723, 36, 71, 43, 530, 476, 26, 400, 317, 46, 7, 4, 2, 1029, 13, 104, 88, 4, 381, 15, 297, 98, 32, 2071, 56, 26, 141, 6, 194, 7486, 18, 4, 226, 22, 21, 134, 476, 26, 480, 5, 144, 30, 5535, 18, 51, 36, 28, 224, 92, 25, 104, 4, 226, 65, 16, 38, 1334, 88, 12, 16, 283, 5, 16, 4472, 113, 103, 32, 15, 16, 5345, 19, 178, 32]\n"
          ],
          "name": "stdout"
        }
      ]
    },
    {
      "cell_type": "code",
      "metadata": {
        "id": "MXecLPrthjvS",
        "colab": {
          "base_uri": "https://localhost:8080/",
          "height": 34
        },
        "outputId": "efa6b718-d26e-4ce8-85e2-d9b0ac3f1ec7"
      },
      "source": [
        "#example\n",
        "print(train_labels[0])"
      ],
      "execution_count": null,
      "outputs": [
        {
          "output_type": "stream",
          "text": [
            "1\n"
          ],
          "name": "stdout"
        }
      ]
    },
    {
      "cell_type": "code",
      "metadata": {
        "id": "byY0TVAh90-U",
        "colab": {
          "base_uri": "https://localhost:8080/",
          "height": 34
        },
        "outputId": "4006d8e3-9704-45ea-bd00-c5c34c949ad2"
      },
      "source": [
        "#example\n",
        "len(train_data[0]), len(train_data[1])"
      ],
      "execution_count": null,
      "outputs": [
        {
          "output_type": "execute_result",
          "data": {
            "text/plain": [
              "(218, 189)"
            ]
          },
          "metadata": {
            "tags": []
          },
          "execution_count": 7
        }
      ]
    },
    {
      "cell_type": "code",
      "metadata": {
        "id": "WhhPydt399Bq",
        "colab": {
          "base_uri": "https://localhost:8080/",
          "height": 50
        },
        "outputId": "0883a31a-7308-496a-9ce1-5f2a9c17dea7"
      },
      "source": [
        "#to decode the review back to english words\n",
        "\n",
        "word_index = imdb.get_word_index()\n",
        "\n",
        "# The first indices are reserved\n",
        "word_index = {k:(v+3) for k,v in word_index.items()} \n",
        "word_index[\"<PAD>\"] = 0     #padding\n",
        "word_index[\"<START>\"] = 1   #start of the sequence \n",
        "word_index[\"<UNK>\"] = 2     # unknown\n",
        "word_index[\"<UNUSED>\"] = 3  \n",
        "\n",
        "reverse_word_index = dict([(value, key) for (key, value) in word_index.items()])\n",
        "\n",
        "def decode_review(text):\n",
        "    return ' '.join([reverse_word_index.get(i, '?') for i in text])"
      ],
      "execution_count": null,
      "outputs": [
        {
          "output_type": "stream",
          "text": [
            "Downloading data from https://storage.googleapis.com/tensorflow/tf-keras-datasets/imdb_word_index.json\n",
            "1646592/1641221 [==============================] - 0s 0us/step\n"
          ],
          "name": "stdout"
        }
      ]
    },
    {
      "cell_type": "code",
      "metadata": {
        "id": "Qqsw1AJu-DDG",
        "colab": {
          "base_uri": "https://localhost:8080/",
          "height": 120
        },
        "outputId": "d8d8e3a4-16d7-4503-ca0a-84300a29b5b0"
      },
      "source": [
        "decode_review(train_data[0])"
      ],
      "execution_count": null,
      "outputs": [
        {
          "output_type": "execute_result",
          "data": {
            "application/vnd.google.colaboratory.intrinsic+json": {
              "type": "string"
            },
            "text/plain": [
              "\"<START> this film was just brilliant casting location scenery story direction everyone's really suited the part they played and you could just imagine being there robert <UNK> is an amazing actor and now the same being director <UNK> father came from the same scottish island as myself so i loved the fact there was a real connection with this film the witty remarks throughout the film were great it was just brilliant so much that i bought the film as soon as it was released for <UNK> and would recommend it to everyone to watch and the fly fishing was amazing really cried at the end it was so sad and you know what they say if you cry at a film it must have been good and this definitely was also <UNK> to the two little boy's that played the <UNK> of norman and paul they were just brilliant children are often left out of the <UNK> list i think because the stars that play them all grown up are such a big profile for the whole film but these children are amazing and should be praised for what they have done don't you think the whole story was so lovely because it was true and was someone's life after all that was shared with us all\""
            ]
          },
          "metadata": {
            "tags": []
          },
          "execution_count": 9
        }
      ]
    },
    {
      "cell_type": "markdown",
      "metadata": {
        "id": "9TF8x_rflX5h"
      },
      "source": [
        "***Data Preprocessing*** : "
      ]
    },
    {
      "cell_type": "code",
      "metadata": {
        "id": "wWFnUPOj-M-U"
      },
      "source": [
        "#to standardize the lengths of the movie reviews\n",
        "\n",
        "train_data = keras.preprocessing.sequence.pad_sequences(train_data,\n",
        "                                                        value=word_index[\"<PAD>\"],\n",
        "                                                        padding='post',\n",
        "                                                        maxlen=256)\n",
        "\n",
        "test_data = keras.preprocessing.sequence.pad_sequences(test_data,\n",
        "                                                       value=word_index[\"<PAD>\"],\n",
        "                                                       padding='post',\n",
        "                                                       maxlen=256)"
      ],
      "execution_count": null,
      "outputs": []
    },
    {
      "cell_type": "code",
      "metadata": {
        "id": "U1wwtIpd-Twe",
        "colab": {
          "base_uri": "https://localhost:8080/",
          "height": 34
        },
        "outputId": "3f91154f-b7f7-4fa0-8823-40f46631d36c"
      },
      "source": [
        "len(train_data[0]), len(train_data[1])"
      ],
      "execution_count": null,
      "outputs": [
        {
          "output_type": "execute_result",
          "data": {
            "text/plain": [
              "(256, 256)"
            ]
          },
          "metadata": {
            "tags": []
          },
          "execution_count": 11
        }
      ]
    },
    {
      "cell_type": "code",
      "metadata": {
        "id": "K3tu5A5R-alX",
        "colab": {
          "base_uri": "https://localhost:8080/",
          "height": 286
        },
        "outputId": "e5cc578c-3fd2-40b0-9770-dc593fe11690"
      },
      "source": [
        "\n",
        "size_vocab = 10000\n",
        "\n",
        "model = models.Sequential()\n",
        "\n",
        "#takes the integer encoded vocabulary and looks up the embedding vector for each word index\n",
        "model.add(layers.Embedding(size_vocab, 16))\n",
        "\n",
        "#pooling layer to perform average pooling\n",
        "model.add(layers.GlobalAveragePooling1D())\n",
        "\n",
        "#dense layer using relu as activation function and 16 hidden units\n",
        "model.add(layers.Dense(16, activation='relu'))\n",
        "\n",
        "#dense layer using sigmoid as activation function for binary classification \n",
        "model.add(layers.Dense(1, activation='sigmoid'))\n",
        "\n",
        "model.summary()"
      ],
      "execution_count": null,
      "outputs": [
        {
          "output_type": "stream",
          "text": [
            "Model: \"sequential\"\n",
            "_________________________________________________________________\n",
            "Layer (type)                 Output Shape              Param #   \n",
            "=================================================================\n",
            "embedding (Embedding)        (None, None, 16)          160000    \n",
            "_________________________________________________________________\n",
            "global_average_pooling1d (Gl (None, 16)                0         \n",
            "_________________________________________________________________\n",
            "dense (Dense)                (None, 16)                272       \n",
            "_________________________________________________________________\n",
            "dense_1 (Dense)              (None, 1)                 17        \n",
            "=================================================================\n",
            "Total params: 160,289\n",
            "Trainable params: 160,289\n",
            "Non-trainable params: 0\n",
            "_________________________________________________________________\n"
          ],
          "name": "stdout"
        }
      ]
    },
    {
      "cell_type": "markdown",
      "metadata": {
        "id": "Yx9aJoF2oY-o"
      },
      "source": [
        "***Compiling the Model***"
      ]
    },
    {
      "cell_type": "code",
      "metadata": {
        "id": "S2PDDfdl-gHO"
      },
      "source": [
        "model.compile(optimizer='adam',\n",
        "              loss='binary_crossentropy',\n",
        "              metrics=['acc'])\n"
      ],
      "execution_count": null,
      "outputs": []
    },
    {
      "cell_type": "code",
      "metadata": {
        "id": "Iv_iDljU-s_J"
      },
      "source": [
        "#splitting the training data into training and validation sets\n",
        "x_val = train_data[:10000]\n",
        "partial_x_train = train_data[10000:]\n",
        "y_val = train_labels[:10000]\n",
        "partial_y_train = train_labels[10000:]"
      ],
      "execution_count": null,
      "outputs": []
    },
    {
      "cell_type": "markdown",
      "metadata": {
        "id": "ps5G_Kbgp7Z1"
      },
      "source": [
        "***Training the Model***"
      ]
    },
    {
      "cell_type": "code",
      "metadata": {
        "id": "nJM84Npl-yAp",
        "colab": {
          "base_uri": "https://localhost:8080/",
          "height": 1000
        },
        "outputId": "cc927f6c-12ab-44fc-8693-fd84e2567c5c"
      },
      "source": [
        "history = model.fit(partial_x_train,\n",
        "                    partial_y_train,\n",
        "                    epochs=40,\n",
        "                    batch_size=512,\n",
        "                    validation_data=(x_val, y_val),\n",
        "                    verbose=1)"
      ],
      "execution_count": null,
      "outputs": [
        {
          "output_type": "stream",
          "text": [
            "Epoch 1/40\n",
            "30/30 [==============================] - 1s 24ms/step - loss: 0.6922 - acc: 0.5607 - val_loss: 0.6905 - val_acc: 0.6268\n",
            "Epoch 2/40\n",
            "30/30 [==============================] - 1s 19ms/step - loss: 0.6874 - acc: 0.7213 - val_loss: 0.6841 - val_acc: 0.7172\n",
            "Epoch 3/40\n",
            "30/30 [==============================] - 1s 19ms/step - loss: 0.6772 - acc: 0.7577 - val_loss: 0.6708 - val_acc: 0.7432\n",
            "Epoch 4/40\n",
            "30/30 [==============================] - 1s 19ms/step - loss: 0.6588 - acc: 0.7696 - val_loss: 0.6492 - val_acc: 0.7414\n",
            "Epoch 5/40\n",
            "30/30 [==============================] - 1s 19ms/step - loss: 0.6302 - acc: 0.7823 - val_loss: 0.6182 - val_acc: 0.7762\n",
            "Epoch 6/40\n",
            "30/30 [==============================] - 1s 19ms/step - loss: 0.5918 - acc: 0.8043 - val_loss: 0.5793 - val_acc: 0.7974\n",
            "Epoch 7/40\n",
            "30/30 [==============================] - 1s 18ms/step - loss: 0.5465 - acc: 0.8238 - val_loss: 0.5367 - val_acc: 0.8145\n",
            "Epoch 8/40\n",
            "30/30 [==============================] - 1s 19ms/step - loss: 0.4991 - acc: 0.8425 - val_loss: 0.4945 - val_acc: 0.8291\n",
            "Epoch 9/40\n",
            "30/30 [==============================] - 1s 19ms/step - loss: 0.4539 - acc: 0.8577 - val_loss: 0.4559 - val_acc: 0.8396\n",
            "Epoch 10/40\n",
            "30/30 [==============================] - 1s 19ms/step - loss: 0.4135 - acc: 0.8668 - val_loss: 0.4232 - val_acc: 0.8498\n",
            "Epoch 11/40\n",
            "30/30 [==============================] - 1s 18ms/step - loss: 0.3789 - acc: 0.8771 - val_loss: 0.3962 - val_acc: 0.8553\n",
            "Epoch 12/40\n",
            "30/30 [==============================] - 1s 19ms/step - loss: 0.3495 - acc: 0.8863 - val_loss: 0.3748 - val_acc: 0.8616\n",
            "Epoch 13/40\n",
            "30/30 [==============================] - 1s 19ms/step - loss: 0.3249 - acc: 0.8923 - val_loss: 0.3601 - val_acc: 0.8608\n",
            "Epoch 14/40\n",
            "30/30 [==============================] - 1s 18ms/step - loss: 0.3049 - acc: 0.8967 - val_loss: 0.3436 - val_acc: 0.8679\n",
            "Epoch 15/40\n",
            "30/30 [==============================] - 1s 19ms/step - loss: 0.2857 - acc: 0.9034 - val_loss: 0.3318 - val_acc: 0.8723\n",
            "Epoch 16/40\n",
            "30/30 [==============================] - 1s 20ms/step - loss: 0.2701 - acc: 0.9067 - val_loss: 0.3224 - val_acc: 0.8751\n",
            "Epoch 17/40\n",
            "30/30 [==============================] - 1s 19ms/step - loss: 0.2557 - acc: 0.9118 - val_loss: 0.3148 - val_acc: 0.8771\n",
            "Epoch 18/40\n",
            "30/30 [==============================] - 1s 18ms/step - loss: 0.2426 - acc: 0.9158 - val_loss: 0.3085 - val_acc: 0.8775\n",
            "Epoch 19/40\n",
            "30/30 [==============================] - 1s 19ms/step - loss: 0.2308 - acc: 0.9199 - val_loss: 0.3025 - val_acc: 0.8795\n",
            "Epoch 20/40\n",
            "30/30 [==============================] - 1s 19ms/step - loss: 0.2199 - acc: 0.9239 - val_loss: 0.2984 - val_acc: 0.8807\n",
            "Epoch 21/40\n",
            "30/30 [==============================] - 1s 18ms/step - loss: 0.2104 - acc: 0.9265 - val_loss: 0.2944 - val_acc: 0.8820\n",
            "Epoch 22/40\n",
            "30/30 [==============================] - 1s 19ms/step - loss: 0.2012 - acc: 0.9305 - val_loss: 0.2916 - val_acc: 0.8825\n",
            "Epoch 23/40\n",
            "30/30 [==============================] - 1s 18ms/step - loss: 0.1922 - acc: 0.9359 - val_loss: 0.2892 - val_acc: 0.8831\n",
            "Epoch 24/40\n",
            "30/30 [==============================] - 1s 20ms/step - loss: 0.1842 - acc: 0.9388 - val_loss: 0.2874 - val_acc: 0.8839\n",
            "Epoch 25/40\n",
            "30/30 [==============================] - 1s 18ms/step - loss: 0.1766 - acc: 0.9427 - val_loss: 0.2868 - val_acc: 0.8834\n",
            "Epoch 26/40\n",
            "30/30 [==============================] - 1s 18ms/step - loss: 0.1695 - acc: 0.9452 - val_loss: 0.2854 - val_acc: 0.8841\n",
            "Epoch 27/40\n",
            "30/30 [==============================] - 1s 18ms/step - loss: 0.1629 - acc: 0.9484 - val_loss: 0.2849 - val_acc: 0.8855\n",
            "Epoch 28/40\n",
            "30/30 [==============================] - 1s 18ms/step - loss: 0.1567 - acc: 0.9497 - val_loss: 0.2848 - val_acc: 0.8856\n",
            "Epoch 29/40\n",
            "30/30 [==============================] - 1s 19ms/step - loss: 0.1502 - acc: 0.9533 - val_loss: 0.2864 - val_acc: 0.8830\n",
            "Epoch 30/40\n",
            "30/30 [==============================] - 1s 19ms/step - loss: 0.1452 - acc: 0.9556 - val_loss: 0.2856 - val_acc: 0.8857\n",
            "Epoch 31/40\n",
            "30/30 [==============================] - 1s 19ms/step - loss: 0.1391 - acc: 0.9587 - val_loss: 0.2871 - val_acc: 0.8845\n",
            "Epoch 32/40\n",
            "30/30 [==============================] - 1s 19ms/step - loss: 0.1341 - acc: 0.9600 - val_loss: 0.2886 - val_acc: 0.8843\n",
            "Epoch 33/40\n",
            "30/30 [==============================] - 1s 19ms/step - loss: 0.1289 - acc: 0.9619 - val_loss: 0.2894 - val_acc: 0.8859\n",
            "Epoch 34/40\n",
            "30/30 [==============================] - 1s 19ms/step - loss: 0.1241 - acc: 0.9649 - val_loss: 0.2915 - val_acc: 0.8852\n",
            "Epoch 35/40\n",
            "30/30 [==============================] - 1s 19ms/step - loss: 0.1199 - acc: 0.9655 - val_loss: 0.2928 - val_acc: 0.8862\n",
            "Epoch 36/40\n",
            "30/30 [==============================] - 1s 19ms/step - loss: 0.1153 - acc: 0.9679 - val_loss: 0.2953 - val_acc: 0.8841\n",
            "Epoch 37/40\n",
            "30/30 [==============================] - 1s 20ms/step - loss: 0.1114 - acc: 0.9697 - val_loss: 0.2974 - val_acc: 0.8846\n",
            "Epoch 38/40\n",
            "30/30 [==============================] - 1s 19ms/step - loss: 0.1069 - acc: 0.9709 - val_loss: 0.3002 - val_acc: 0.8844\n",
            "Epoch 39/40\n",
            "30/30 [==============================] - 1s 19ms/step - loss: 0.1037 - acc: 0.9715 - val_loss: 0.3025 - val_acc: 0.8838\n",
            "Epoch 40/40\n",
            "30/30 [==============================] - 1s 18ms/step - loss: 0.0994 - acc: 0.9737 - val_loss: 0.3047 - val_acc: 0.8841\n"
          ],
          "name": "stdout"
        }
      ]
    },
    {
      "cell_type": "code",
      "metadata": {
        "id": "M_DysDZp_Fwf",
        "colab": {
          "base_uri": "https://localhost:8080/",
          "height": 34
        },
        "outputId": "a09fd5b1-038a-48e3-82f6-d91da5e537d7"
      },
      "source": [
        "history_dict = history.history\n",
        "history_dict.keys()"
      ],
      "execution_count": null,
      "outputs": [
        {
          "output_type": "execute_result",
          "data": {
            "text/plain": [
              "dict_keys(['loss', 'acc', 'val_loss', 'val_acc'])"
            ]
          },
          "metadata": {
            "tags": []
          },
          "execution_count": 16
        }
      ]
    },
    {
      "cell_type": "markdown",
      "metadata": {
        "id": "-XeydUgBqQbF"
      },
      "source": [
        "***Plotting the Curves***"
      ]
    },
    {
      "cell_type": "code",
      "metadata": {
        "id": "NDR9uK5A_MQh",
        "colab": {
          "base_uri": "https://localhost:8080/",
          "height": 229
        },
        "outputId": "86f0da73-7066-478d-f4dc-fbb7b8d7f6ce"
      },
      "source": [
        "#Training vs Validation Loss Curve\n",
        "loss_values = history_dict['loss']\n",
        "val_loss_values = history_dict['val_loss']\n",
        "\n",
        "epochs = range(1, len(acc) +1)\n",
        "\n",
        "plt.plot(epochs,loss_values,'r',label='Training Loss')\n",
        "plt.plot(epochs,val_loss_values,'b',label = 'Validation Loss')\n",
        "plt.title('Training and Validation Loss')\n",
        "plt.xlabel('Epochs')\n",
        "plt.ylabel('Loss')\n",
        "plt.legend()\n",
        "plt.show()"
      ],
      "execution_count": null,
      "outputs": [
        {
          "output_type": "error",
          "ename": "NameError",
          "evalue": "ignored",
          "traceback": [
            "\u001b[0;31m---------------------------------------------------------------------------\u001b[0m",
            "\u001b[0;31mNameError\u001b[0m                                 Traceback (most recent call last)",
            "\u001b[0;32m<ipython-input-17-4329ff0a7e8d>\u001b[0m in \u001b[0;36m<module>\u001b[0;34m()\u001b[0m\n\u001b[1;32m      3\u001b[0m \u001b[0mval_loss_values\u001b[0m \u001b[0;34m=\u001b[0m \u001b[0mhistory_dict\u001b[0m\u001b[0;34m[\u001b[0m\u001b[0;34m'val_loss'\u001b[0m\u001b[0;34m]\u001b[0m\u001b[0;34m\u001b[0m\u001b[0;34m\u001b[0m\u001b[0m\n\u001b[1;32m      4\u001b[0m \u001b[0;34m\u001b[0m\u001b[0m\n\u001b[0;32m----> 5\u001b[0;31m \u001b[0mepochs\u001b[0m \u001b[0;34m=\u001b[0m \u001b[0mrange\u001b[0m\u001b[0;34m(\u001b[0m\u001b[0;36m1\u001b[0m\u001b[0;34m,\u001b[0m \u001b[0mlen\u001b[0m\u001b[0;34m(\u001b[0m\u001b[0macc\u001b[0m\u001b[0;34m)\u001b[0m \u001b[0;34m+\u001b[0m\u001b[0;36m1\u001b[0m\u001b[0;34m)\u001b[0m\u001b[0;34m\u001b[0m\u001b[0;34m\u001b[0m\u001b[0m\n\u001b[0m\u001b[1;32m      6\u001b[0m \u001b[0;34m\u001b[0m\u001b[0m\n\u001b[1;32m      7\u001b[0m \u001b[0mplt\u001b[0m\u001b[0;34m.\u001b[0m\u001b[0mplot\u001b[0m\u001b[0;34m(\u001b[0m\u001b[0mepochs\u001b[0m\u001b[0;34m,\u001b[0m\u001b[0mloss_values\u001b[0m\u001b[0;34m,\u001b[0m\u001b[0;34m'r'\u001b[0m\u001b[0;34m,\u001b[0m\u001b[0mlabel\u001b[0m\u001b[0;34m=\u001b[0m\u001b[0;34m'Training Loss'\u001b[0m\u001b[0;34m)\u001b[0m\u001b[0;34m\u001b[0m\u001b[0;34m\u001b[0m\u001b[0m\n",
            "\u001b[0;31mNameError\u001b[0m: name 'acc' is not defined"
          ]
        }
      ]
    },
    {
      "cell_type": "code",
      "metadata": {
        "id": "FTJsgvt5_SE3"
      },
      "source": [
        "#Training vs Validation Accuracy Curve\n",
        "plt.clf()\n",
        "acc = history_dict['acc']\n",
        "val_acc = history_dict['val_acc']\n",
        "\n",
        "plt.plot(epochs,acc,'r',label='Training Accuracy')\n",
        "plt.plot(epochs,val_acc,'b',label = 'Validation Accuracy')\n",
        "plt.title('Training and Validation accuracy')\n",
        "plt.xlabel('Epochs')\n",
        "plt.ylabel('Loss')\n",
        "plt.legend()\n",
        "plt.show()"
      ],
      "execution_count": null,
      "outputs": []
    },
    {
      "cell_type": "markdown",
      "metadata": {
        "id": "-mg_l3ECuUXR"
      },
      "source": [
        "***Evaluating on Test Data***"
      ]
    },
    {
      "cell_type": "code",
      "metadata": {
        "id": "kBeyaoBo-2gi"
      },
      "source": [
        "results = model.evaluate(test_data, test_labels)\n",
        "\n",
        "print(results)\n",
        "print(\"Test Loss: \" +str(results[0]))\n",
        "print(\"Test Accuracy: \" +str(results[1]))\n",
        "p = round(results[1]*100,2)\n",
        "print(\"Test Accuracy in %: \" +str(p) +\"%\")"
      ],
      "execution_count": null,
      "outputs": []
    },
    {
      "cell_type": "code",
      "metadata": {
        "id": "iLCcUYVZ_ZqS"
      },
      "source": [
        "model.predict(test_data)"
      ],
      "execution_count": null,
      "outputs": []
    }
  ]
}